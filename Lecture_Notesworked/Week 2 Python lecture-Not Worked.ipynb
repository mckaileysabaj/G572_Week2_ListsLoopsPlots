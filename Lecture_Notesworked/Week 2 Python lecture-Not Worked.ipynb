{
  "nbformat": 4,
  "nbformat_minor": 0,
  "metadata": {
    "kernelspec": {
      "display_name": "Python 3",
      "language": "python",
      "name": "python3"
    },
    "language_info": {
      "codemirror_mode": {
        "name": "ipython",
        "version": 3
      },
      "file_extension": ".py",
      "mimetype": "text/x-python",
      "name": "python",
      "nbconvert_exporter": "python",
      "pygments_lexer": "ipython3",
      "version": "3.7.4"
    },
    "colab": {
      "name": "Week 2 Python lecture-Not Worked.ipynb",
      "provenance": []
    }
  },
  "cells": [
    {
      "cell_type": "markdown",
      "metadata": {
        "id": "HYItkO7ALc_U",
        "colab_type": "text"
      },
      "source": [
        "<a id='Top'></a>\n",
        "# <center>Week 2 Lecture Notes: Lists of numbers; Plotting in Python</center>\n",
        "\n",
        "<ul>\n",
        "    <li><a href='#List'>I. Lists</a></li>\n",
        "    <li><a href='#Index'>II. Indexing and Slicing</a></li>\n",
        "    <li><a href='#Loop'>III. Looping through Lists</a></li>\n",
        "    <li><a href='#Plotting'>IV. Plotting</a></li>\n",
        "</ul>"
      ]
    },
    {
      "cell_type": "markdown",
      "metadata": {
        "id": "nEMyIASoLc_Z",
        "colab_type": "text"
      },
      "source": [
        "<a id='List'></a>\n",
        "\n",
        "# I. Lists in Python\n",
        "\n",
        "Recommended Resources: \n",
        "https://www.geeksforgeeks.org/python-list/\n"
      ]
    },
    {
      "cell_type": "markdown",
      "metadata": {
        "id": "1DRbCBVSLc_f",
        "colab_type": "text"
      },
      "source": [
        "There are many different types of data structures in Python; as the semester proceeds, you will be introduced to many (but not all) all these. \n",
        "\n",
        "For the next couple of weeks, we are going to focus on time-series data, which can be stored in Python as a sequence of values. There are many types of sequences in Python; you have already seen one of those (`strings`). In this notebook, we are going to focus on one of the most versatile Python sequences, the <b>list</b>. "
      ]
    },
    {
      "cell_type": "markdown",
      "metadata": {
        "id": "ybzJ-mxELc_h",
        "colab_type": "text"
      },
      "source": [
        "Lists are created by inserting a sequence of comma-separated values between square brackets, as follows:"
      ]
    },
    {
      "cell_type": "code",
      "metadata": {
        "id": "LBAYuGNXNOS-",
        "colab_type": "code",
        "colab": {
          "base_uri": "https://localhost:8080/",
          "height": 35
        },
        "outputId": "1befca3e-45e0-4686-ea0d-45102a23bf77"
      },
      "source": [
        "testlist=[1,2,3]\n",
        "print (testlist)"
      ],
      "execution_count": 1,
      "outputs": [
        {
          "output_type": "stream",
          "text": [
            "[1, 2, 3]\n"
          ],
          "name": "stdout"
        }
      ]
    },
    {
      "cell_type": "markdown",
      "metadata": {
        "id": "b8VnvCuLLc_l",
        "colab_type": "text"
      },
      "source": [
        "Note that lists are rather versatile, and can contain any combination of integers, floats, strings, etc."
      ]
    },
    {
      "cell_type": "code",
      "metadata": {
        "id": "Wglag4R_Ngvb",
        "colab_type": "code",
        "colab": {
          "base_uri": "https://localhost:8080/",
          "height": 35
        },
        "outputId": "3a87ce57-e658-45f2-b3df-ea50e58ac3a2"
      },
      "source": [
        "testlist=[1,2.0,'three']\n",
        "print (testlist)"
      ],
      "execution_count": 3,
      "outputs": [
        {
          "output_type": "stream",
          "text": [
            "[1, 2.0, 'three']\n"
          ],
          "name": "stdout"
        }
      ]
    },
    {
      "cell_type": "markdown",
      "metadata": {
        "id": "nmk4Ix8SLc_q",
        "colab_type": "text"
      },
      "source": [
        "Recall that it is useful to check data types when troubleshooting code. You may want to determine that you are indeed working with a list, or that all entries in a list are of the same data type."
      ]
    },
    {
      "cell_type": "code",
      "metadata": {
        "id": "I_1GK_-CN3v_",
        "colab_type": "code",
        "colab": {
          "base_uri": "https://localhost:8080/",
          "height": 35
        },
        "outputId": "f9bafb88-c80e-4072-94e8-bb6399e9bba9"
      },
      "source": [
        "#confirm datatype is a list\n",
        "type(testlist)"
      ],
      "execution_count": 4,
      "outputs": [
        {
          "output_type": "execute_result",
          "data": {
            "text/plain": [
              "list"
            ]
          },
          "metadata": {
            "tags": []
          },
          "execution_count": 4
        }
      ]
    },
    {
      "cell_type": "code",
      "metadata": {
        "id": "R9j4ZejMOeAd",
        "colab_type": "code",
        "colab": {
          "base_uri": "https://localhost:8080/",
          "height": 35
        },
        "outputId": "06392e5c-b722-496b-ac99-21fee3aa075e"
      },
      "source": [
        "testlist[0]"
      ],
      "execution_count": 5,
      "outputs": [
        {
          "output_type": "execute_result",
          "data": {
            "text/plain": [
              "1"
            ]
          },
          "metadata": {
            "tags": []
          },
          "execution_count": 5
        }
      ]
    },
    {
      "cell_type": "markdown",
      "metadata": {
        "id": "XTBX9OipLc_u",
        "colab_type": "text"
      },
      "source": [
        "There are a number of actions that we can perform on lists. The following example shows how to append the integer 4 to our testlist."
      ]
    },
    {
      "cell_type": "code",
      "metadata": {
        "id": "eL4CXfL8PFV_",
        "colab_type": "code",
        "colab": {
          "base_uri": "https://localhost:8080/",
          "height": 35
        },
        "outputId": "1eb3a439-1664-477c-c604-8aeadb713b5e"
      },
      "source": [
        "testlist.append(4)\n",
        "print (testlist)"
      ],
      "execution_count": 7,
      "outputs": [
        {
          "output_type": "stream",
          "text": [
            "[1, 2.0, 'three', 4]\n"
          ],
          "name": "stdout"
        }
      ]
    },
    {
      "cell_type": "markdown",
      "metadata": {
        "id": "ihCA94-_Po4w",
        "colab_type": "text"
      },
      "source": [
        "make sure to clear or it will keep adding \"4\" each time you run it"
      ]
    },
    {
      "cell_type": "markdown",
      "metadata": {
        "id": "k6dcli2qLc_y",
        "colab_type": "text"
      },
      "source": [
        "Append is what we refer to as a <b>method</b>, which is similar to a function. Unlike a function, which would create a new list, methods act directly on an object (in this case, testlist). \n",
        "\n",
        "<b>Be cautious when using methods, because they often change your original data.</b>"
      ]
    },
    {
      "cell_type": "markdown",
      "metadata": {
        "id": "ER7QQPfhLc_0",
        "colab_type": "text"
      },
      "source": [
        "### Practice exercise"
      ]
    },
    {
      "cell_type": "markdown",
      "metadata": {
        "id": "okzy4PDJLc_2",
        "colab_type": "text"
      },
      "source": [
        "Calculate the mean and median from the following list. \n",
        "\n",
        "Hint 1: you should rely on an existing Python package.\n",
        "\n",
        "Hint 2: Google is your friend."
      ]
    },
    {
      "cell_type": "code",
      "metadata": {
        "id": "we6DzwReLc_6",
        "colab_type": "code",
        "colab": {}
      },
      "source": [
        "# list to perform statistics on\n",
        "statlist = [100, 102.1, 250, 110.3, 99.12, 98]"
      ],
      "execution_count": 0,
      "outputs": []
    },
    {
      "cell_type": "code",
      "metadata": {
        "id": "RHiJPhuALdAE",
        "colab_type": "code",
        "colab": {}
      },
      "source": [
        "# Write code here\n",
        "\n",
        "\n",
        "\n",
        "\n",
        "\n",
        "\n",
        "\n",
        "\n",
        "\n",
        "\n",
        "\n",
        "\n",
        "\n",
        "\n",
        "\n",
        "\n",
        "\n",
        "\n",
        "\n",
        "\n",
        "\n",
        "\n",
        "\n",
        "\n",
        "\n",
        "\n",
        "\n",
        "\n",
        "\n",
        "\n",
        "\n",
        "\n",
        "\n",
        "\n",
        "\n",
        "\n",
        "\n",
        "\n",
        "\n",
        "\n",
        "\n",
        "\n",
        "\n",
        "\n",
        "\n",
        "\n",
        "\n"
      ],
      "execution_count": 0,
      "outputs": []
    },
    {
      "cell_type": "code",
      "metadata": {
        "id": "kA8MkiHMLdAL",
        "colab_type": "code",
        "colab": {},
        "outputId": "1e44cd69-8d94-4e16-f4a8-88acac76ec2c"
      },
      "source": [
        "# Answer\n",
        "import statistics\n",
        "meanlist = statistics.mean(statlist)\n",
        "print(meanlist)"
      ],
      "execution_count": 0,
      "outputs": [
        {
          "output_type": "stream",
          "text": [
            "126.58666666666667\n"
          ],
          "name": "stdout"
        }
      ]
    },
    {
      "cell_type": "markdown",
      "metadata": {
        "id": "zqMOAB0pLdAa",
        "colab_type": "text"
      },
      "source": [
        "<a id='Index'></a>\n",
        "\n",
        "# II. Indexing and slicing\n",
        "\n",
        "We often need to access a specific value from a list, called <b>indexing</b>. Let's see what happens when we index `testlist` at index value 1. This is done by writing index-value within closed brackets immediately following the name of a pre-defined list:"
      ]
    },
    {
      "cell_type": "code",
      "metadata": {
        "id": "cXAq9KqgQKX7",
        "colab_type": "code",
        "colab": {
          "base_uri": "https://localhost:8080/",
          "height": 35
        },
        "outputId": "da4f8836-cc6d-4890-c41a-28c12a47d63e"
      },
      "source": [
        "test=[1,2,3]\n",
        "#2nd value in list returned\n",
        "test[1]"
      ],
      "execution_count": 8,
      "outputs": [
        {
          "output_type": "execute_result",
          "data": {
            "text/plain": [
              "2"
            ]
          },
          "metadata": {
            "tags": []
          },
          "execution_count": 8
        }
      ]
    },
    {
      "cell_type": "code",
      "metadata": {
        "id": "QHHCZdngQXep",
        "colab_type": "code",
        "colab": {}
      },
      "source": [
        ""
      ],
      "execution_count": 0,
      "outputs": []
    },
    {
      "cell_type": "markdown",
      "metadata": {
        "id": "HiqK-A5dLdAc",
        "colab_type": "text"
      },
      "source": [
        "If you are used to coding in other languages, you might have expeted this to return the value 1, but this actually returns the value 2. <b>Remember that Python is 0-indexed, so to return the first value in a list, you need to access index 0.</b> "
      ]
    },
    {
      "cell_type": "markdown",
      "metadata": {
        "id": "jQvpzh2_LdAd",
        "colab_type": "text"
      },
      "source": [
        "To extract the last value, you need to access index-2."
      ]
    },
    {
      "cell_type": "code",
      "metadata": {
        "id": "8Vul8ETzQeeS",
        "colab_type": "code",
        "colab": {}
      },
      "source": [
        ""
      ],
      "execution_count": 0,
      "outputs": []
    },
    {
      "cell_type": "markdown",
      "metadata": {
        "id": "T12tevArLdAg",
        "colab_type": "text"
      },
      "source": [
        "Trying to access index-3 will result in a `IndexError` if the list only contains three values."
      ]
    },
    {
      "cell_type": "code",
      "metadata": {
        "id": "-p9YEtNKQi-i",
        "colab_type": "code",
        "colab": {
          "base_uri": "https://localhost:8080/",
          "height": 172
        },
        "outputId": "b48fdfa3-a90c-4cfd-8603-b1927b0b8549"
      },
      "source": [
        "test[3]"
      ],
      "execution_count": 9,
      "outputs": [
        {
          "output_type": "error",
          "ename": "IndexError",
          "evalue": "ignored",
          "traceback": [
            "\u001b[0;31m---------------------------------------------------------------------------\u001b[0m",
            "\u001b[0;31mIndexError\u001b[0m                                Traceback (most recent call last)",
            "\u001b[0;32m<ipython-input-9-fa81591057b8>\u001b[0m in \u001b[0;36m<module>\u001b[0;34m()\u001b[0m\n\u001b[0;32m----> 1\u001b[0;31m \u001b[0mtest\u001b[0m\u001b[0;34m[\u001b[0m\u001b[0;36m3\u001b[0m\u001b[0;34m]\u001b[0m\u001b[0;34m\u001b[0m\u001b[0;34m\u001b[0m\u001b[0m\n\u001b[0m",
            "\u001b[0;31mIndexError\u001b[0m: list index out of range"
          ]
        }
      ]
    },
    {
      "cell_type": "markdown",
      "metadata": {
        "id": "vS_ZpQW-LdAi",
        "colab_type": "text"
      },
      "source": [
        "A handy trick is that Python uses negative values to count backward, so you can also access the -1 index to return the last value in a list."
      ]
    },
    {
      "cell_type": "code",
      "metadata": {
        "id": "XvbTe55gQxyE",
        "colab_type": "code",
        "colab": {
          "base_uri": "https://localhost:8080/",
          "height": 35
        },
        "outputId": "c649cd93-f573-463e-fe45-75e961e94b0f"
      },
      "source": [
        "test[-1] \n",
        "#last value in list"
      ],
      "execution_count": 10,
      "outputs": [
        {
          "output_type": "execute_result",
          "data": {
            "text/plain": [
              "3"
            ]
          },
          "metadata": {
            "tags": []
          },
          "execution_count": 10
        }
      ]
    },
    {
      "cell_type": "markdown",
      "metadata": {
        "id": "-4TokAPhLdAk",
        "colab_type": "text"
      },
      "source": [
        "Often a coder needs to access multiple values of a list, called slicing. Let's slice out the first two values. This is done like indexing, but rather than a single value between the square brackets, the coder defines start:end instead. \n",
        "\n",
        "Since we are slicing the first two values, you might expect the following to work:"
      ]
    },
    {
      "cell_type": "code",
      "metadata": {
        "id": "ZCB-mCGTRDuG",
        "colab_type": "code",
        "colab": {
          "base_uri": "https://localhost:8080/",
          "height": 35
        },
        "outputId": "fccb649f-789f-40ed-d847-ebf13f6db715"
      },
      "source": [
        "#slice out first 2 values\n",
        "test[0:1]"
      ],
      "execution_count": 13,
      "outputs": [
        {
          "output_type": "execute_result",
          "data": {
            "text/plain": [
              "[1]"
            ]
          },
          "metadata": {
            "tags": []
          },
          "execution_count": 13
        }
      ]
    },
    {
      "cell_type": "markdown",
      "metadata": {
        "id": "xtxOzEkpRvI-",
        "colab_type": "text"
      },
      "source": [
        "Think of list as brackets and commas when counting"
      ]
    },
    {
      "cell_type": "markdown",
      "metadata": {
        "id": "B6yE5pDlLdAn",
        "colab_type": "text"
      },
      "source": [
        "The above code returns a list (hence the square brackets in the output), but only one value within the list, the first one. The correct code is to write `testlist[0:2]` to return a list with only the first two values:"
      ]
    },
    {
      "cell_type": "code",
      "metadata": {
        "id": "uzcgVwo5R8f8",
        "colab_type": "code",
        "colab": {
          "base_uri": "https://localhost:8080/",
          "height": 35
        },
        "outputId": "4ea6ca30-c344-4dad-9e78-c2907d1e82a0"
      },
      "source": [
        "test[0:2]\n"
      ],
      "execution_count": 14,
      "outputs": [
        {
          "output_type": "execute_result",
          "data": {
            "text/plain": [
              "[1, 2]"
            ]
          },
          "metadata": {
            "tags": []
          },
          "execution_count": 14
        }
      ]
    },
    {
      "cell_type": "code",
      "metadata": {
        "id": "jzYYhnt_SLOM",
        "colab_type": "code",
        "colab": {
          "base_uri": "https://localhost:8080/",
          "height": 35
        },
        "outputId": "dc7d1944-0e41-492d-9d6e-90f47cb8c6a7"
      },
      "source": [
        "#slice last two values\n",
        "test[-2:]"
      ],
      "execution_count": 15,
      "outputs": [
        {
          "output_type": "execute_result",
          "data": {
            "text/plain": [
              "[2, 3]"
            ]
          },
          "metadata": {
            "tags": []
          },
          "execution_count": 15
        }
      ]
    },
    {
      "cell_type": "code",
      "metadata": {
        "id": "lKMuDQJ_Wjyn",
        "colab_type": "code",
        "colab": {
          "base_uri": "https://localhost:8080/",
          "height": 35
        },
        "outputId": "d5c6eecd-8054-4dc5-9ecf-a4733ad0d56f"
      },
      "source": [
        "#length of list\n",
        "len(test)"
      ],
      "execution_count": 16,
      "outputs": [
        {
          "output_type": "execute_result",
          "data": {
            "text/plain": [
              "3"
            ]
          },
          "metadata": {
            "tags": []
          },
          "execution_count": 16
        }
      ]
    },
    {
      "cell_type": "markdown",
      "metadata": {
        "id": "P5x8jnPQLdAo",
        "colab_type": "text"
      },
      "source": [
        "The following image clarifies how slicing works, only in this case it is working on strings rather than lists. When slicing, the start value indicates the tick mark defining the start of the slice, while the end value indicates the tick mark defining the end of the slice. In this case, slicing from 3:8 would return 'KSFOR'. \n",
        "\n",
        "![Image of slicing](https://media.geeksforgeeks.org/wp-content/uploads/List-Slicing.jpg)\n",
        "\n",
        "Image from https://www.geeksforgeeks.org/python-list/. \n",
        "\n",
        "Let's code it up to confirm."
      ]
    },
    {
      "cell_type": "markdown",
      "metadata": {
        "id": "YJPSFEJXLdAr",
        "colab_type": "text"
      },
      "source": [
        "Note that when slicing, from the begining of a string to some specified point, you don't have to type the 0-index. Similarly, you don't have to type the last index when slicing a section at the end of a sequence (string, list).\n",
        "\n",
        "The latter is particularly useful if a coder does not know apriori how long the list is going to be, or if it changes size."
      ]
    },
    {
      "cell_type": "markdown",
      "metadata": {
        "id": "w8pe2CNrLdAs",
        "colab_type": "text"
      },
      "source": [
        "### Practice problems for outside of class\n",
        "Consider the list defined below. In the following code cells, perform the indexing or slicing as instructed in the comment of that cell."
      ]
    },
    {
      "cell_type": "code",
      "metadata": {
        "id": "gaWtczpbLdAu",
        "colab_type": "code",
        "colab": {}
      },
      "source": [
        "# do not code in this cell, it defines your list for this problem\n",
        "p2_list = [1,3,5,9,12,190,320]"
      ],
      "execution_count": 0,
      "outputs": []
    },
    {
      "cell_type": "code",
      "metadata": {
        "id": "plwqwYskLdA2",
        "colab_type": "code",
        "colab": {}
      },
      "source": [
        "# access the 4th value of testlist using positive indexing"
      ],
      "execution_count": 0,
      "outputs": []
    },
    {
      "cell_type": "code",
      "metadata": {
        "id": "soaFobTILdA-",
        "colab_type": "code",
        "colab": {}
      },
      "source": [
        "# access the 4th value of testlist using negative indexing"
      ],
      "execution_count": 0,
      "outputs": []
    },
    {
      "cell_type": "code",
      "metadata": {
        "id": "UHhNJYxKLdBI",
        "colab_type": "code",
        "colab": {}
      },
      "source": [
        "# access the last three values of testlist using positive slicing"
      ],
      "execution_count": 0,
      "outputs": []
    },
    {
      "cell_type": "code",
      "metadata": {
        "id": "xRI3GJLLLdBN",
        "colab_type": "code",
        "colab": {}
      },
      "source": [
        "# access the last three values of testlist using negative slicing"
      ],
      "execution_count": 0,
      "outputs": []
    },
    {
      "cell_type": "code",
      "metadata": {
        "id": "mvmZcvqLLdBU",
        "colab_type": "code",
        "colab": {}
      },
      "source": [
        "# using slicing, return a list without the first and last values of testlist\n",
        "\n",
        "\n",
        "\n",
        "\n",
        "\n",
        "\n",
        "\n",
        "\n",
        "\n",
        "\n",
        "\n",
        "\n",
        "\n",
        "\n",
        "\n",
        "\n",
        "\n",
        "\n",
        "\n",
        "\n",
        "\n",
        "\n",
        "\n",
        "\n",
        "\n",
        "\n",
        "\n",
        "\n",
        "\n"
      ],
      "execution_count": 0,
      "outputs": []
    },
    {
      "cell_type": "markdown",
      "metadata": {
        "id": "swBMg_znLdBa",
        "colab_type": "text"
      },
      "source": [
        "### Practice problems for outside of class (Answers)"
      ]
    },
    {
      "cell_type": "code",
      "metadata": {
        "id": "5R1nuYZALdBd",
        "colab_type": "code",
        "colab": {},
        "outputId": "9b88d578-8bf8-40eb-d54d-c8fe8a4a1cbe"
      },
      "source": [
        "# access the 4th value of testlist using positive indexing\n",
        "p2_list[3]"
      ],
      "execution_count": 0,
      "outputs": [
        {
          "output_type": "execute_result",
          "data": {
            "text/plain": [
              "9"
            ]
          },
          "metadata": {
            "tags": []
          },
          "execution_count": 43
        }
      ]
    },
    {
      "cell_type": "code",
      "metadata": {
        "id": "AQW4fIvRLdBl",
        "colab_type": "code",
        "colab": {},
        "outputId": "c96cd25d-48da-47fe-de9a-8329952b3498"
      },
      "source": [
        "# access the 4th value of testlist using negative indexing\n",
        "p2_list[-4]"
      ],
      "execution_count": 0,
      "outputs": [
        {
          "output_type": "execute_result",
          "data": {
            "text/plain": [
              "9"
            ]
          },
          "metadata": {
            "tags": []
          },
          "execution_count": 44
        }
      ]
    },
    {
      "cell_type": "code",
      "metadata": {
        "id": "XJCYrhyzLdBq",
        "colab_type": "code",
        "colab": {},
        "outputId": "75439dff-fd31-4dc3-9e4b-59d3bba3b763"
      },
      "source": [
        "# access the last three values of testlist using positive slicing\n",
        "p2_list[4:]"
      ],
      "execution_count": 0,
      "outputs": [
        {
          "output_type": "execute_result",
          "data": {
            "text/plain": [
              "[12, 190, 320]"
            ]
          },
          "metadata": {
            "tags": []
          },
          "execution_count": 45
        }
      ]
    },
    {
      "cell_type": "code",
      "metadata": {
        "id": "2zHF0PcYLdBv",
        "colab_type": "code",
        "colab": {},
        "outputId": "ee3337c8-fc50-48d8-9427-e9c47799d211"
      },
      "source": [
        "# access the last three values of testlist using negative slicing\n",
        "p2_list[-3:]"
      ],
      "execution_count": 0,
      "outputs": [
        {
          "output_type": "execute_result",
          "data": {
            "text/plain": [
              "[12, 190, 320]"
            ]
          },
          "metadata": {
            "tags": []
          },
          "execution_count": 47
        }
      ]
    },
    {
      "cell_type": "code",
      "metadata": {
        "id": "nduFeYk9LdB1",
        "colab_type": "code",
        "colab": {},
        "outputId": "58940f11-8574-4472-d00f-0826fffbeef9"
      },
      "source": [
        "# using slicing, return a list without the first and last values of testlist\n",
        "p2_list[1:-1]"
      ],
      "execution_count": 0,
      "outputs": [
        {
          "output_type": "execute_result",
          "data": {
            "text/plain": [
              "[3, 5, 9, 12, 190]"
            ]
          },
          "metadata": {
            "tags": []
          },
          "execution_count": 48
        }
      ]
    },
    {
      "cell_type": "markdown",
      "metadata": {
        "id": "zWeeYVvsLdB7",
        "colab_type": "text"
      },
      "source": [
        "<a id='Loop'></a>\n",
        "\n",
        "# III. Looping through lists\n",
        "You have already been introduced to loops. It is often very useful to iterate through the values of a list using such a loop. \n",
        "\n",
        "Unlike many other languages, Python allows you to loop through all entries in the list directly. Let's test it out:"
      ]
    },
    {
      "cell_type": "code",
      "metadata": {
        "id": "Q7ru9Vm1W6pV",
        "colab_type": "code",
        "colab": {
          "base_uri": "https://localhost:8080/",
          "height": 90
        },
        "outputId": "c83cf8cd-7b08-4815-ae9d-577a56b7a31a"
      },
      "source": [
        "list=[1,2,4,7]\n",
        "for x in list:\n",
        "  print(x)"
      ],
      "execution_count": 17,
      "outputs": [
        {
          "output_type": "stream",
          "text": [
            "1\n",
            "2\n",
            "4\n",
            "7\n"
          ],
          "name": "stdout"
        }
      ]
    },
    {
      "cell_type": "markdown",
      "metadata": {
        "id": "U7r5srjrLdB9",
        "colab_type": "text"
      },
      "source": [
        "Sometimes we need indices and values in the same loop, but which is possible using the enumerate function:"
      ]
    },
    {
      "cell_type": "code",
      "metadata": {
        "id": "r2acSASBXcTn",
        "colab_type": "code",
        "colab": {
          "base_uri": "https://localhost:8080/",
          "height": 90
        },
        "outputId": "692cbf09-2192-498c-8be4-fd2904e9d07c"
      },
      "source": [
        "for index,value in enumerate(list):\n",
        "  print(\"at index \"+str(index)+\", value=\" +str(value))"
      ],
      "execution_count": 18,
      "outputs": [
        {
          "output_type": "stream",
          "text": [
            "at index 0, value=1\n",
            "at index 1, value=2\n",
            "at index 2, value=4\n",
            "at index 3, value=7\n"
          ],
          "name": "stdout"
        }
      ]
    },
    {
      "cell_type": "markdown",
      "metadata": {
        "id": "nnwkdt0HLdB-",
        "colab_type": "text"
      },
      "source": [
        "### Example Problem: Unit Conversion\n",
        "Most of the data at the ISWS are in Imperial Units rather than Metric. That means that unit conversion is often essential, particularly when discussing Illinois issues with a national audience. Convert the heads in the following list from feet to meters. "
      ]
    },
    {
      "cell_type": "code",
      "metadata": {
        "id": "JcADgRmWYf2y",
        "colab_type": "code",
        "colab": {
          "base_uri": "https://localhost:8080/",
          "height": 35
        },
        "outputId": "2a8ce2a0-2d19-4f81-dd76-c2f8a22facdc"
      },
      "source": [
        "#using a loop\n",
        "heads_ft=[290.1,290.5,600.9,870.8]\n",
        "\n",
        "heads_meters=[] #heads in meters\n",
        "for value in heads_ft:\n",
        "  heads_meters.append(value/3.28)\n",
        "print (heads_meters)"
      ],
      "execution_count": 23,
      "outputs": [
        {
          "output_type": "stream",
          "text": [
            "[88.44512195121952, 88.56707317073172, 183.20121951219514, 265.4878048780488]\n"
          ],
          "name": "stdout"
        }
      ]
    },
    {
      "cell_type": "code",
      "metadata": {
        "id": "AjDMd4OAaBXW",
        "colab_type": "code",
        "colab": {
          "base_uri": "https://localhost:8080/",
          "height": 35
        },
        "outputId": "778759b3-6f76-4183-eeb6-e4310ac8950a"
      },
      "source": [
        "#alt way to do this\n",
        "#list comprehension\n",
        "heads_ft=[290.1,290.5,600.9,870.8]\n",
        "heads_meters=[value/3.28 for value in heads_ft] #heads in meters\n",
        "print (heads_meters)"
      ],
      "execution_count": 24,
      "outputs": [
        {
          "output_type": "stream",
          "text": [
            "[88.44512195121952, 88.56707317073172, 183.20121951219514, 265.4878048780488]\n"
          ],
          "name": "stdout"
        }
      ]
    },
    {
      "cell_type": "markdown",
      "metadata": {
        "id": "laqcOkIYLdB_",
        "colab_type": "text"
      },
      "source": [
        "### Example Problem: Darcy's Law"
      ]
    },
    {
      "cell_type": "markdown",
      "metadata": {
        "id": "rz26aSfMLdCB",
        "colab_type": "text"
      },
      "source": [
        "### Practice Problem: Gallons per year to Cubic Feet per day\n",
        "As we will find out later this semester, the groundwater flow model works with consistent length and time units. Most of the models at the ISWS are in units of $ft$ and $days$, meaning that pumpage has to be assigned as $ft^3/d$. However, pumpage is generally reported to the ISWS by communities as gallons per year.\n",
        "\n",
        "Convert the following reported units ($gallons/year$) to model-ready units ($ft^3/d$)."
      ]
    },
    {
      "cell_type": "code",
      "metadata": {
        "id": "p53FFiuSLdCC",
        "colab_type": "code",
        "colab": {}
      },
      "source": [
        "# pumpage in gallons per year\n",
        "gpy = [10000000, 32892902, 32890183010, 3801329, 389201473]\n",
        "\n",
        "\n",
        "\n",
        "\n",
        "\n",
        "\n",
        "\n",
        "\n",
        "\n",
        "\n",
        "\n",
        "\n",
        "\n",
        "\n",
        "\n",
        "\n",
        "\n",
        "\n",
        "\n",
        "\n",
        "\n",
        "\n",
        "\n",
        "\n",
        "\n",
        "\n",
        "\n",
        "\n",
        "\n",
        "\n",
        "\n",
        "\n",
        "\n",
        "\n",
        "\n",
        "\n",
        "\n",
        "\n",
        "\n",
        "\n"
      ],
      "execution_count": 0,
      "outputs": []
    },
    {
      "cell_type": "code",
      "metadata": {
        "id": "5wdW8gZXLdCJ",
        "colab_type": "code",
        "colab": {},
        "outputId": "6415bba4-c35b-4260-da2a-15b4c6adc659"
      },
      "source": [
        "# Answer\n",
        "cfd = [0.133681*x/365.25 for x in gpy]\n",
        "print(cfd)"
      ],
      "execution_count": 0,
      "outputs": [
        {
          "output_type": "stream",
          "text": [
            "[3659.986310746064, 12038.757104071185, 12037761.957453279, 1391.2812102642024, 142447.2063302204]\n"
          ],
          "name": "stdout"
        }
      ]
    },
    {
      "cell_type": "markdown",
      "metadata": {
        "id": "0Ku_ZF8yLdCO",
        "colab_type": "text"
      },
      "source": [
        "<a id='Plotting'></a>\n",
        "# IV. Plotting data\n",
        "One of the more powerful libraries for Python is MatplotLib. Although mostly used for 2D plotting it does have some 3D plotting capabilities. For now, let's make a simple x-y plot from two lists. The first list defines the time (x) axis in years, while the second defines the observed head in ft above mean sea level."
      ]
    },
    {
      "cell_type": "code",
      "metadata": {
        "id": "SNOqlvQyLdCP",
        "colab_type": "code",
        "colab": {}
      },
      "source": [
        "# time in years\n",
        "timerange = [2000,2001,2002,2003,2004,2005,2006,2008,2009,2010,2011,2012,2013,2014,2015,2016,2017,2018]\n",
        "# head in feet above mean sea level\n",
        "headrange = [91, 34, 16, 14, 12, 5, -11, -31, -49, -59, -77, -116, -119, -148, -161, -178, -183, -184]"
      ],
      "execution_count": 0,
      "outputs": []
    },
    {
      "cell_type": "markdown",
      "metadata": {
        "id": "ZdIVgvTRLdCU",
        "colab_type": "text"
      },
      "source": [
        "The MatplotLib library is quite expansive, so it is useful to import the entire library as well as subsets (simply for code briefness).\n",
        "\n",
        "In addition, `%matplotlib inline` is a command for Jupyter Notebook that improves the display of plots. It is not used in Python code outside of Jupyter."
      ]
    },
    {
      "cell_type": "code",
      "metadata": {
        "id": "twARroAIbW0V",
        "colab_type": "code",
        "colab": {}
      },
      "source": [
        "import matplotlib as mp # mp makes it easier to use\n",
        "import matplotlib.pyplot as plt\n",
        "%matplotlib inline"
      ],
      "execution_count": 0,
      "outputs": []
    },
    {
      "cell_type": "code",
      "metadata": {
        "id": "AQXVIL0ucHCK",
        "colab_type": "code",
        "colab": {
          "base_uri": "https://localhost:8080/",
          "height": 266
        },
        "outputId": "627953b2-cfd9-42de-a253-d7a213f21536"
      },
      "source": [
        "plt.scatter(timerange, headrange)\n",
        "plt.show()"
      ],
      "execution_count": 29,
      "outputs": [
        {
          "output_type": "display_data",
          "data": {
            "image/png": "[encoded data removed]",
            "text/plain": [
              "<Figure size 432x288 with 1 Axes>"
            ]
          },
          "metadata": {
            "tags": []
          }
        }
      ]
    },
    {
      "cell_type": "markdown",
      "metadata": {
        "id": "uVXNMYJ3LdCW",
        "colab_type": "text"
      },
      "source": [
        "Now let's add labels and a title."
      ]
    },
    {
      "cell_type": "code",
      "metadata": {
        "id": "SfGi7_WXcrqD",
        "colab_type": "code",
        "colab": {
          "base_uri": "https://localhost:8080/",
          "height": 266
        },
        "outputId": "088e2d6d-5785-460e-a372-028e1fefdcf0"
      },
      "source": [
        "#bottom whole nums\n",
        "plt.scatter(timerange, headrange)\n",
        "plt.xlim(2000.0,2018.0)\n",
        "plt.xticks(range(2000,2018,3))\n",
        "plt.show()"
      ],
      "execution_count": 31,
      "outputs": [
        {
          "output_type": "display_data",
          "data": {
            "image/png": "[encoded data removed]",
            "text/plain": [
              "<Figure size 432x288 with 1 Axes>"
            ]
          },
          "metadata": {
            "tags": []
          }
        }
      ]
    },
    {
      "cell_type": "code",
      "metadata": {
        "id": "KcpHItiUclY5",
        "colab_type": "code",
        "colab": {
          "base_uri": "https://localhost:8080/",
          "height": 281
        },
        "outputId": "6a934f7c-f465-4ed9-9a74-0119c82225ad"
      },
      "source": [
        "#rotate x axis a bit\n",
        "plt.scatter(timerange, headrange)\n",
        "plt.xlim(2000.0,2018.0)\n",
        "plt.xticks(range(2000,2018,3),rotation=45)\n",
        "plt.show()"
      ],
      "execution_count": 34,
      "outputs": [
        {
          "output_type": "display_data",
          "data": {
            "image/png": "[encoded data removed]",
            "text/plain": [
              "<Figure size 432x288 with 1 Axes>"
            ]
          },
          "metadata": {
            "tags": []
          }
        }
      ]
    },
    {
      "cell_type": "code",
      "metadata": {
        "id": "aJGxbbJDdk-I",
        "colab_type": "code",
        "colab": {
          "base_uri": "https://localhost:8080/",
          "height": 302
        },
        "outputId": "4204dc61-7855-4af0-d8a7-d37c79739201"
      },
      "source": [
        "#titles\n",
        "plt.scatter(timerange, headrange)\n",
        "plt.title(\"head decline in ft\",fontsize=15)\n",
        "plt.xlabel(\"year\",fontsize=15)\n",
        "plt.ylabel('head',fontsize=15)\n",
        "plt.xlim(2000.0,2018.0)\n",
        "plt.xticks(range(2000,2018,3))\n",
        "plt.show()"
      ],
      "execution_count": 35,
      "outputs": [
        {
          "output_type": "display_data",
          "data": {
            "image/png": "[encoded data removed]",
            "text/plain": [
              "<Figure size 432x288 with 1 Axes>"
            ]
          },
          "metadata": {
            "tags": []
          }
        }
      ]
    },
    {
      "cell_type": "markdown",
      "metadata": {
        "id": "BZYGnP9TLdCW",
        "colab_type": "text"
      },
      "source": [
        "On the axes, let's make the time axis as integers and rotate the tick-values by 45 degrees. Let's also set the y-axis to a range of -300 to 200 ft. There are also a few other modifications to font size that are added to this code."
      ]
    }
  ]
}